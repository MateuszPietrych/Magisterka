{
 "cells": [
  {
   "cell_type": "code",
   "execution_count": 1,
   "metadata": {},
   "outputs": [],
   "source": [
    "import re\n",
    "import os\n",
    "\n",
    "file_content_name = 'witcher_pages_current.txt'\n",
    "# file_content_name = 'witcher_filtered_no_comments_2.txt'\n",
    "file_content_path = os.path.join(\"D:\\Magisterka\\Magisterka\", file_content_name)"
   ]
  },
  {
   "cell_type": "markdown",
   "metadata": {},
   "source": [
    "Remove Comments\n"
   ]
  },
  {
   "cell_type": "code",
   "execution_count": 2,
   "metadata": {},
   "outputs": [],
   "source": [
    "file = open(file_content_path, 'r', encoding='utf-8')\n",
    "\n",
    "text = file.read()\n",
    "# removed_comments = re.sub(pattern=r\"<page>(?:\\n|.)*?@comment-(?:\\n|.)*?</page>\", repl=\"\", string=removed_comments, flags=re.DOTALL)\n",
    "# text = re.sub(pattern=r\"<page>(?:\\n|.)*?<comment>(?:\\n|.)*?</page>\", repl=\"\", string=text, flags=re.DOTALL)\n",
    "\n",
    "file.close()"
   ]
  },
  {
   "cell_type": "markdown",
   "metadata": {},
   "source": [
    "Find <text ... text>"
   ]
  },
  {
   "cell_type": "code",
   "execution_count": 3,
   "metadata": {},
   "outputs": [
    {
     "name": "stdout",
     "output_type": "stream",
     "text": [
      "<text bytes=\"21\" sha1=\"sm4j40lxc0dc2yxl1du1ofuqzkb9vgb\" xml:space=\"preserve\">$1 - The Witcher Wiki</\n"
     ]
    }
   ],
   "source": [
    "text   =   re.findall(pattern=r\"<text bytes=(?:\\n|.)*?<\\/text>\", string=text, flags=re.DOTALL)\n",
    "text = \"\\n\".join(text)\n",
    "print(text[0:100])"
   ]
  },
  {
   "cell_type": "code",
   "execution_count": null,
   "metadata": {},
   "outputs": [],
   "source": [
    "text = re.sub(pattern=r\"<page>(?:\\n|.)*?@comment-(?:\\n|.)*?</page>\", repl=\"\", string=text, flags=re.DOTALL)"
   ]
  },
  {
   "cell_type": "code",
   "execution_count": null,
   "metadata": {},
   "outputs": [
    {
     "data": {
      "text/plain": [
       "'witcher_filtered_no_comments_3.txt'"
      ]
     },
     "execution_count": 27,
     "metadata": {},
     "output_type": "execute_result"
    }
   ],
   "source": [
    "# Save the cleaned file without the unwanted pages\n",
    "filtered_output_file_path = \"witcher_filtered_no_comments_3.txt\"\n",
    "with open(filtered_output_file_path, \"w\", encoding=\"utf-8\") as f:\n",
    "    f.write(text)\n",
    "\n",
    "# Provide the file path to the user\n",
    "filtered_output_file_path"
   ]
  }
 ],
 "metadata": {
  "kernelspec": {
   "display_name": "main",
   "language": "python",
   "name": "python3"
  },
  "language_info": {
   "codemirror_mode": {
    "name": "ipython",
    "version": 3
   },
   "file_extension": ".py",
   "mimetype": "text/x-python",
   "name": "python",
   "nbconvert_exporter": "python",
   "pygments_lexer": "ipython3",
   "version": "3.10.9"
  }
 },
 "nbformat": 4,
 "nbformat_minor": 2
}
