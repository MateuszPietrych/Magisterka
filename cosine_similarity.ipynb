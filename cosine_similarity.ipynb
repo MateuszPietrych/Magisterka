{
 "cells": [
  {
   "cell_type": "code",
   "execution_count": null,
   "id": "19740676",
   "metadata": {},
   "outputs": [
    {
     "ename": "",
     "evalue": "",
     "output_type": "error",
     "traceback": [
      "\u001b[1;31mRunning cells with 'base (Python 3.9.13)' requires the ipykernel package.\n",
      "\u001b[1;31m<a href='command:jupyter.createPythonEnvAndSelectController'>Create a Python Environment</a> with the required packages."
     ]
    }
   ],
   "source": [
    "from sklearn.feature_extraction.text import TfidfVectorizer\n",
    "from sklearn.metrics.pairwise import cosine_similarity\n",
    "import pandas as pd\n",
    "\n"
   ]
  },
  {
   "cell_type": "code",
   "execution_count": null,
   "id": "fa701e96",
   "metadata": {},
   "outputs": [],
   "source": [
    "\n",
    "# Load the Excel file\n",
    "excel_path = 'witcher_info.xlsx'  # Change this to your actual file path\n",
    "xls = pd.ExcelFile(excel_path)\n",
    "\n",
    "# List all sheet names\n",
    "print(xls.sheet_names)\n",
    "\n",
    "# Load a specific sheet (e.g., 'Gounter O'Dim')\n",
    "df = pd.read_excel(xls, sheet_name=\"Gounter O'Dim\")\n",
    "\n",
    "# Display the first few rows\n",
    "print(df.head())\n",
    "\n",
    "# Access specific columns (e.g., 'Story', 'Scene')\n",
    "selected_columns = df[['Story', 'Scene', 'Participants', 'Dialogue Game', 'Dialogue LLM']].copy()\n",
    "print(selected_columns)\n",
    "\n",
    "selected_columns.columns = ['Story', 'Scene', 'Participants', 'Dialogue Game', 'Dialogue LLM']\n",
    "\n",
    "\n",
    "\n",
    "# Define the texts\n",
    "Story = selected_columns['Story'].get(0)\n",
    "Scene = selected_columns['Scene'].get(0)\n",
    "Dialogue_Game = selected_columns['Dialogue Game'].get(0)\n",
    "Dialogue_LLM = selected_columns['Dialogue LLM'].get(0)\n",
    "# Shared participants\n",
    "# participants = [\"Geralt of Rivia was a legendary witcher of the School of the Wolf active throughout the 13th century. He loved the sorceress Yennefer, considered the love of his life despite their tumultuous relationship, and became Ciri's adoptive father.During the Trial of the Grasses, Geralt exhibited unusual tolerance for the mutagens that grant witchers their abilities. Accordingly, Geralt was subjected to further experimental mutagens which rendered his hair white and may have given him greater speed, strength, and stamina than his fellow witchers.Despite his title, Geralt did not hail from the city of Rivia. After being left with the witchers by his mother, Visenna, he grew up in their keep of Kaer Morhen in the realm of Kaedwen. In the interest of appearing more trustworthy to potential clients, young witchers were encouraged to make up surnames for themselves by master Vesemir. As his first choice, Geralt chose Geralt Roger Eric du Haute-Bellegarde, but this choice was dismissed by Vesemir as silly and pretentious, so Geralt was all that remained of his chosen name. Of Rivia was a more practical alternative and Geralt even went so far as to adopt a Rivian accent to appear more authentic. Later, Queen Meve of Lyria knighted him for his valor in the Battle for the Bridge on the Yaruga conferring on him the formal title of Rivia, which amused him.[2] He, therefore, became a true knight.\", \n",
    "#                 \"Peter Saar Gwynleve was the captain of the Nilfgaardian Garrison located in White Orchard. By all appearances he seemed a rather fair and kind person to the people of White Orchard, especially by the standards of most conquering Nilfgaardians.\"]\n",
    "# Participants_Text = \" \".join(participants)\n",
    "participants = selected_columns['Participants']\n",
    "Participants_Text = \"\" \n",
    "for i in range(len(participants)):\n",
    "    Participants_Text.join(str(participants[i]))\n",
    "\n",
    "texts = [Story, Scene, Dialogue_Game, Dialogue_LLM, Participants_Text]\n",
    "print(f\"Participants: {Participants_Text}\")"
   ]
  },
  {
   "cell_type": "code",
   "execution_count": null,
   "id": "6df439f7",
   "metadata": {},
   "outputs": [],
   "source": [
    "# TF-IDF vectorization\n",
    "vectorizer = TfidfVectorizer()\n",
    "tfidf_matrix = vectorizer.fit_transform(texts)\n",
    "\n",
    "# Indices\n",
    "i_story = 0\n",
    "i_scene = 1\n",
    "i_game = 2\n",
    "i_llm = 3\n",
    "i_participants = 4\n",
    "\n",
    "# Cosine similarity matrix\n",
    "similarity_matrix = cosine_similarity(tfidf_matrix)\n",
    "\n",
    "# Cosine similarities\n",
    "print(\"Cosine Similarity Results:\\n\")\n",
    "\n",
    "print(f\"Story           ↔ Dialogue_Game : {similarity_matrix[i_story][i_game]:.4f}\")\n",
    "print(f\"Story           ↔ Dialogue_LLM  : {similarity_matrix[i_story][i_llm]:.4f}\")\n",
    "print(f\"Scene           ↔ Dialogue_Game : {similarity_matrix[i_scene][i_game]:.4f}\")\n",
    "print(f\"Scene           ↔ Dialogue_LLM  : {similarity_matrix[i_scene][i_llm]:.4f}\")\n",
    "print(f\"Dialogue_Game   ↔ Dialogue_LLM  : {similarity_matrix[i_game][i_llm]:.4f}\")\n",
    "print(f\"Participants    ↔ Dialogue_Game : {similarity_matrix[i_participants][i_game]:.4f}\")\n",
    "print(f\"Participants    ↔ Dialogue_LLM  : {similarity_matrix[i_participants][i_llm]:.4f}\\n\")\n",
    "\n",
    "# Summary\n",
    "print(\"Summary of Cosine Similarities:\\n\")\n",
    "print(f\"Story: G-{similarity_matrix[i_story][i_game]:.4f} LLM-{similarity_matrix[i_story][i_llm]:.4f}\")\n",
    "print(f\"Scene: G-{similarity_matrix[i_scene][i_game]:.4f} LLM-{similarity_matrix[i_scene][i_llm]:.4f}\")\n",
    "print(f\"Participants: G-{similarity_matrix[i_participants][i_game]:.4f} LLM-{similarity_matrix[i_participants][i_llm]:.4f}\")"
   ]
  }
 ],
 "metadata": {
  "kernelspec": {
   "display_name": "base",
   "language": "python",
   "name": "python3"
  },
  "language_info": {
   "codemirror_mode": {
    "name": "ipython",
    "version": 3
   },
   "file_extension": ".py",
   "mimetype": "text/x-python",
   "name": "python",
   "nbconvert_exporter": "python",
   "pygments_lexer": "ipython3",
   "version": "3.9.13"
  }
 },
 "nbformat": 4,
 "nbformat_minor": 5
}
